{
  "nbformat": 4,
  "nbformat_minor": 0,
  "metadata": {
    "colab": {
      "name": "Assignment1PartA.ipynb",
      "provenance": [],
      "include_colab_link": true
    },
    "kernelspec": {
      "name": "python3",
      "display_name": "Python 3"
    },
    "accelerator": "GPU"
  },
  "cells": [
    {
      "cell_type": "markdown",
      "metadata": {
        "id": "view-in-github",
        "colab_type": "text"
      },
      "source": [
        "<a href=\"https://colab.research.google.com/github/juccalle/CAP4630/blob/master/HW2/Assignment1PartA.ipynb\" target=\"_parent\"><img src=\"https://colab.research.google.com/assets/colab-badge.svg\" alt=\"Open In Colab\"/></a>"
      ]
    },
    {
      "cell_type": "markdown",
      "metadata": {
        "id": "rt44vyY1xW9b",
        "colab_type": "text"
      },
      "source": [
        "# Classification of MNIST digits with dense layers"
      ]
    },
    {
      "cell_type": "markdown",
      "metadata": {
        "id": "yH1EOQd6R2uQ",
        "colab_type": "text"
      },
      "source": [
        "## Loading the image data"
      ]
    },
    {
      "cell_type": "code",
      "metadata": {
        "id": "FSJyddqGexl5",
        "colab_type": "code",
        "colab": {}
      },
      "source": [
        "from keras.datasets import mnist\n",
        "\n",
        "(train_images_original, train_labels_original), (test_images_original, test_labels_original) = mnist.load_data()"
      ],
      "execution_count": 0,
      "outputs": []
    },
    {
      "cell_type": "markdown",
      "metadata": {
        "id": "91gu7qVhR6eX",
        "colab_type": "text"
      },
      "source": [
        "## Preparing the image data"
      ]
    },
    {
      "cell_type": "code",
      "metadata": {
        "id": "UB7_xf0hzsPx",
        "colab_type": "code",
        "colab": {}
      },
      "source": [
        "train_images = train_images_original.reshape((60000, 28 * 28))\n",
        "train_images = train_images.astype('float32') / 255\n",
        "\n",
        "test_images = test_images_original.reshape((10000, 28 * 28))\n",
        "test_images = test_images.astype('float32') / 255"
      ],
      "execution_count": 0,
      "outputs": []
    },
    {
      "cell_type": "markdown",
      "metadata": {
        "id": "HwRvZSOvSzXx",
        "colab_type": "text"
      },
      "source": [
        "## Preparing the labels\n",
        "\n",
        "We need to categorically encode the labels."
      ]
    },
    {
      "cell_type": "code",
      "metadata": {
        "id": "C1ulkKRPSgJP",
        "colab_type": "code",
        "colab": {}
      },
      "source": [
        "from keras.utils import to_categorical\n",
        "\n",
        "train_labels = to_categorical(train_labels_original)\n",
        "test_labels = to_categorical(test_labels_original)"
      ],
      "execution_count": 0,
      "outputs": []
    },
    {
      "cell_type": "markdown",
      "metadata": {
        "id": "rC8AL-W7Vunu",
        "colab_type": "text"
      },
      "source": [
        "## Deplaying some of the original and prepared image data and labels"
      ]
    },
    {
      "cell_type": "code",
      "metadata": {
        "id": "1mqqyfjeWBvO",
        "colab_type": "code",
        "outputId": "e5f161c5-81b7-4f05-8163-c957bdef784f",
        "colab": {
          "base_uri": "https://localhost:8080/",
          "height": 34
        }
      },
      "source": [
        "train_images.shape"
      ],
      "execution_count": 24,
      "outputs": [
        {
          "output_type": "execute_result",
          "data": {
            "text/plain": [
              "(60000, 784)"
            ]
          },
          "metadata": {
            "tags": []
          },
          "execution_count": 24
        }
      ]
    },
    {
      "cell_type": "code",
      "metadata": {
        "id": "0gYNAbR4WM5d",
        "colab_type": "code",
        "outputId": "dda12273-e314-4e85-8bd4-5e808d8cd17e",
        "colab": {
          "base_uri": "https://localhost:8080/",
          "height": 34
        }
      },
      "source": [
        "train_images_original.shape"
      ],
      "execution_count": 25,
      "outputs": [
        {
          "output_type": "execute_result",
          "data": {
            "text/plain": [
              "(60000, 28, 28)"
            ]
          },
          "metadata": {
            "tags": []
          },
          "execution_count": 25
        }
      ]
    },
    {
      "cell_type": "code",
      "metadata": {
        "id": "-uFEJL_WWRXI",
        "colab_type": "code",
        "outputId": "d1a9585c-8823-48f2-cd01-44779f8ec86a",
        "colab": {
          "base_uri": "https://localhost:8080/",
          "height": 265
        }
      },
      "source": [
        "import matplotlib.pyplot as plt\n",
        "plt.imshow(train_images_original[0])\n",
        "plt.show()"
      ],
      "execution_count": 26,
      "outputs": [
        {
          "output_type": "display_data",
          "data": {
            "image/png": "[encoded data removed]",
            "text/plain": [
              "<Figure size 432x288 with 1 Axes>"
            ]
          },
          "metadata": {
            "tags": []
          }
        }
      ]
    },
    {
      "cell_type": "code",
      "metadata": {
        "id": "lwUQhGR8O3Fu",
        "colab_type": "code",
        "outputId": "a4274407-285c-4a42-acb3-069d3918ec36",
        "colab": {
          "base_uri": "https://localhost:8080/",
          "height": 34
        }
      },
      "source": [
        "train_labels.shape"
      ],
      "execution_count": 27,
      "outputs": [
        {
          "output_type": "execute_result",
          "data": {
            "text/plain": [
              "(60000, 10)"
            ]
          },
          "metadata": {
            "tags": []
          },
          "execution_count": 27
        }
      ]
    },
    {
      "cell_type": "code",
      "metadata": {
        "id": "45k_Qxb6TVx2",
        "colab_type": "code",
        "outputId": "390d98a0-bd18-465d-98c5-e005ec910503",
        "colab": {
          "base_uri": "https://localhost:8080/",
          "height": 34
        }
      },
      "source": [
        "train_labels[0]"
      ],
      "execution_count": 28,
      "outputs": [
        {
          "output_type": "execute_result",
          "data": {
            "text/plain": [
              "array([0., 0., 0., 0., 0., 1., 0., 0., 0., 0.], dtype=float32)"
            ]
          },
          "metadata": {
            "tags": []
          },
          "execution_count": 28
        }
      ]
    },
    {
      "cell_type": "code",
      "metadata": {
        "id": "3UuJmDovTZlO",
        "colab_type": "code",
        "colab": {}
      },
      "source": [
        "import numpy as np"
      ],
      "execution_count": 0,
      "outputs": []
    },
    {
      "cell_type": "code",
      "metadata": {
        "id": "2fvjL7woTmTN",
        "colab_type": "code",
        "outputId": "2e7c5602-7446-46e7-a677-8fde1d120863",
        "colab": {
          "base_uri": "https://localhost:8080/",
          "height": 34
        }
      },
      "source": [
        "np.argmax(train_labels[0])"
      ],
      "execution_count": 30,
      "outputs": [
        {
          "output_type": "execute_result",
          "data": {
            "text/plain": [
              "5"
            ]
          },
          "metadata": {
            "tags": []
          },
          "execution_count": 30
        }
      ]
    },
    {
      "cell_type": "code",
      "metadata": {
        "id": "Ta3BJNQQVasW",
        "colab_type": "code",
        "colab": {}
      },
      "source": [
        "train_labels_original[0]\n",
        "train_height = np.array([])\n",
        "test_height = np.array([])"
      ],
      "execution_count": 0,
      "outputs": []
    },
    {
      "cell_type": "code",
      "metadata": {
        "id": "JlTYKP8K-HXT",
        "colab_type": "code",
        "colab": {
          "base_uri": "https://localhost:8080/",
          "height": 232
        },
        "outputId": "5dc15e9a-49a6-43be-ee19-fd0e2e905664"
      },
      "source": [
        "(img_count, col_size, rows_size) = train_images_original.shape\n",
        "(img_index, col_of_positives, rows_of_positives)= np.where(train_images_original > 0)\n",
        "\n",
        "for i in range(img_count):\n",
        "  img = np.where(img_index == i)[0]\n",
        "\n",
        "  col = abs(col_of_positives[img[-1]] - col_of_positives[img[0]]) + 1\n",
        "\n",
        "  train_height = np.append(train_height,  col)\n",
        "\n",
        "train_height = train_height.reshape(img_count, 1)\n",
        "\n",
        "train_height = train_height.astype('float32') / col_size"
      ],
      "execution_count": 32,
      "outputs": [
        {
          "output_type": "error",
          "ename": "KeyboardInterrupt",
          "evalue": "ignored",
          "traceback": [
            "\u001b[0;31m---------------------------------------------------------------------------\u001b[0m",
            "\u001b[0;31mKeyboardInterrupt\u001b[0m                         Traceback (most recent call last)",
            "\u001b[0;32m<ipython-input-32-ee4e20a466db>\u001b[0m in \u001b[0;36m<module>\u001b[0;34m()\u001b[0m\n\u001b[1;32m      3\u001b[0m \u001b[0;34m\u001b[0m\u001b[0m\n\u001b[1;32m      4\u001b[0m \u001b[0;32mfor\u001b[0m \u001b[0mi\u001b[0m \u001b[0;32min\u001b[0m \u001b[0mrange\u001b[0m\u001b[0;34m(\u001b[0m\u001b[0mimg_count\u001b[0m\u001b[0;34m)\u001b[0m\u001b[0;34m:\u001b[0m\u001b[0;34m\u001b[0m\u001b[0;34m\u001b[0m\u001b[0m\n\u001b[0;32m----> 5\u001b[0;31m   \u001b[0mimg\u001b[0m \u001b[0;34m=\u001b[0m \u001b[0mnp\u001b[0m\u001b[0;34m.\u001b[0m\u001b[0mwhere\u001b[0m\u001b[0;34m(\u001b[0m\u001b[0mimg_index\u001b[0m \u001b[0;34m==\u001b[0m \u001b[0mi\u001b[0m\u001b[0;34m)\u001b[0m\u001b[0;34m[\u001b[0m\u001b[0;36m0\u001b[0m\u001b[0;34m]\u001b[0m\u001b[0;34m\u001b[0m\u001b[0;34m\u001b[0m\u001b[0m\n\u001b[0m\u001b[1;32m      6\u001b[0m \u001b[0;34m\u001b[0m\u001b[0m\n\u001b[1;32m      7\u001b[0m   \u001b[0mcol\u001b[0m \u001b[0;34m=\u001b[0m \u001b[0mabs\u001b[0m\u001b[0;34m(\u001b[0m\u001b[0mcol_of_positives\u001b[0m\u001b[0;34m[\u001b[0m\u001b[0mimg\u001b[0m\u001b[0;34m[\u001b[0m\u001b[0;34m-\u001b[0m\u001b[0;36m1\u001b[0m\u001b[0;34m]\u001b[0m\u001b[0;34m]\u001b[0m \u001b[0;34m-\u001b[0m \u001b[0mcol_of_positives\u001b[0m\u001b[0;34m[\u001b[0m\u001b[0mimg\u001b[0m\u001b[0;34m[\u001b[0m\u001b[0;36m0\u001b[0m\u001b[0;34m]\u001b[0m\u001b[0;34m]\u001b[0m\u001b[0;34m)\u001b[0m \u001b[0;34m+\u001b[0m \u001b[0;36m1\u001b[0m\u001b[0;34m\u001b[0m\u001b[0;34m\u001b[0m\u001b[0m\n",
            "\u001b[0;31mKeyboardInterrupt\u001b[0m: "
          ]
        }
      ]
    },
    {
      "cell_type": "code",
      "metadata": {
        "id": "mDUNVFpxArd6",
        "colab_type": "code",
        "colab": {}
      },
      "source": [
        "(img_count, col_size, rows_size) = test_images_original.shape\n",
        "(img_index, col_of_positives, rows_of_positives)= np.where(test_images_original > 0)\n",
        "\n",
        "for i in range(img_count):\n",
        "\n",
        "  img = np.where(img_index == i)[0]\n",
        "\n",
        "  col = abs(col_of_positives[img[-1]] - col_of_positives[img[0]]) + 1\n",
        "\n",
        "  test_height = np.append(test_height,  col)\n",
        "\n",
        "test_height = test_height.reshape(img_count, 1)\n",
        "\n",
        "test_height = test_height.astype('float32') / col_size"
      ],
      "execution_count": 0,
      "outputs": []
    },
    {
      "cell_type": "code",
      "metadata": {
        "id": "crRjFif-A-v4",
        "colab_type": "code",
        "colab": {}
      },
      "source": [
        "train_images = np.concatenate((train_images, train_height), axis = 1)\n",
        "test_images = np.concatenate((test_images, test_height), axis = 1)\n"
      ],
      "execution_count": 0,
      "outputs": []
    },
    {
      "cell_type": "markdown",
      "metadata": {
        "id": "36YichvkWfgL",
        "colab_type": "text"
      },
      "source": [
        "## The network architecture"
      ]
    },
    {
      "cell_type": "code",
      "metadata": {
        "id": "J1ggKa17T2s5",
        "colab_type": "code",
        "outputId": "f3873a32-3b79-474d-d57c-39a9aeb5483f",
        "colab": {
          "base_uri": "https://localhost:8080/",
          "height": 329
        }
      },
      "source": [
        "from keras import models\n",
        "from keras import layers\n",
        "\n",
        "network = models.Sequential()\n",
        "network.add(layers.Dense(512, activation='relu', input_shape=(28 * 28,)))\n",
        "network.add(layers.Dense(10, activation='softmax'))\n",
        "network.summary()"
      ],
      "execution_count": 0,
      "outputs": [
        {
          "output_type": "stream",
          "text": [
            "WARNING:tensorflow:From /usr/local/lib/python3.6/dist-packages/keras/backend/tensorflow_backend.py:66: The name tf.get_default_graph is deprecated. Please use tf.compat.v1.get_default_graph instead.\n",
            "\n",
            "WARNING:tensorflow:From /usr/local/lib/python3.6/dist-packages/keras/backend/tensorflow_backend.py:541: The name tf.placeholder is deprecated. Please use tf.compat.v1.placeholder instead.\n",
            "\n",
            "WARNING:tensorflow:From /usr/local/lib/python3.6/dist-packages/keras/backend/tensorflow_backend.py:4432: The name tf.random_uniform is deprecated. Please use tf.random.uniform instead.\n",
            "\n",
            "Model: \"sequential_1\"\n",
            "_________________________________________________________________\n",
            "Layer (type)                 Output Shape              Param #   \n",
            "=================================================================\n",
            "dense_1 (Dense)              (None, 512)               401920    \n",
            "_________________________________________________________________\n",
            "dense_2 (Dense)              (None, 10)                5130      \n",
            "=================================================================\n",
            "Total params: 407,050\n",
            "Trainable params: 407,050\n",
            "Non-trainable params: 0\n",
            "_________________________________________________________________\n"
          ],
          "name": "stdout"
        }
      ]
    },
    {
      "cell_type": "markdown",
      "metadata": {
        "id": "8H6VF7ZIY6Oy",
        "colab_type": "text"
      },
      "source": [
        "## The compilation step"
      ]
    },
    {
      "cell_type": "code",
      "metadata": {
        "id": "mHp0sz7cYPsK",
        "colab_type": "code",
        "outputId": "006b8038-5a7c-4a0a-c0f2-abcf106b1bda",
        "colab": {
          "base_uri": "https://localhost:8080/",
          "height": 87
        }
      },
      "source": [
        "network.compile(optimizer='rmsprop',\n",
        "                loss='categorical_crossentropy',\n",
        "                metrics=['accuracy'])"
      ],
      "execution_count": 0,
      "outputs": [
        {
          "output_type": "stream",
          "text": [
            "WARNING:tensorflow:From /usr/local/lib/python3.6/dist-packages/keras/optimizers.py:793: The name tf.train.Optimizer is deprecated. Please use tf.compat.v1.train.Optimizer instead.\n",
            "\n",
            "WARNING:tensorflow:From /usr/local/lib/python3.6/dist-packages/keras/backend/tensorflow_backend.py:3576: The name tf.log is deprecated. Please use tf.math.log instead.\n",
            "\n"
          ],
          "name": "stdout"
        }
      ]
    },
    {
      "cell_type": "markdown",
      "metadata": {
        "id": "3SnwsJAtZtYx",
        "colab_type": "text"
      },
      "source": [
        "## The training step"
      ]
    },
    {
      "cell_type": "code",
      "metadata": {
        "id": "2YuVq3JIZksS",
        "colab_type": "code",
        "outputId": "68af49c6-7ee1-4ba8-e7fb-0e9b60250ad6",
        "colab": {
          "base_uri": "https://localhost:8080/",
          "height": 468
        }
      },
      "source": [
        "epochs = 10\n",
        "history = network.fit(train_images, \n",
        "                      train_labels, \n",
        "                      epochs=epochs, \n",
        "                      batch_size=128, \n",
        "                      validation_data=(test_images, test_labels))"
      ],
      "execution_count": 0,
      "outputs": [
        {
          "output_type": "stream",
          "text": [
            "WARNING:tensorflow:From /usr/local/lib/python3.6/dist-packages/tensorflow/python/ops/math_grad.py:1250: add_dispatch_support.<locals>.wrapper (from tensorflow.python.ops.array_ops) is deprecated and will be removed in a future version.\n",
            "Instructions for updating:\n",
            "Use tf.where in 2.0, which has the same broadcast rule as np.where\n",
            "WARNING:tensorflow:From /usr/local/lib/python3.6/dist-packages/keras/backend/tensorflow_backend.py:1033: The name tf.assign_add is deprecated. Please use tf.compat.v1.assign_add instead.\n",
            "\n",
            "Train on 60000 samples, validate on 10000 samples\n",
            "Epoch 1/10\n",
            "60000/60000 [==============================] - 3s 43us/step - loss: 0.2584 - acc: 0.9256 - val_loss: 0.1271 - val_acc: 0.9631\n",
            "Epoch 2/10\n",
            "60000/60000 [==============================] - 2s 25us/step - loss: 0.1035 - acc: 0.9693 - val_loss: 0.0883 - val_acc: 0.9736\n",
            "Epoch 3/10\n",
            "60000/60000 [==============================] - 2s 25us/step - loss: 0.0677 - acc: 0.9797 - val_loss: 0.0827 - val_acc: 0.9759\n",
            "Epoch 4/10\n",
            "60000/60000 [==============================] - 2s 25us/step - loss: 0.0500 - acc: 0.9847 - val_loss: 0.0722 - val_acc: 0.9777\n",
            "Epoch 5/10\n",
            "60000/60000 [==============================] - 2s 26us/step - loss: 0.0367 - acc: 0.9891 - val_loss: 0.0668 - val_acc: 0.9793\n",
            "Epoch 6/10\n",
            "60000/60000 [==============================] - 2s 25us/step - loss: 0.0279 - acc: 0.9919 - val_loss: 0.0661 - val_acc: 0.9798\n",
            "Epoch 7/10\n",
            "60000/60000 [==============================] - 2s 26us/step - loss: 0.0216 - acc: 0.9938 - val_loss: 0.0686 - val_acc: 0.9797\n",
            "Epoch 8/10\n",
            "60000/60000 [==============================] - 2s 25us/step - loss: 0.0168 - acc: 0.9953 - val_loss: 0.0607 - val_acc: 0.9829\n",
            "Epoch 9/10\n",
            "60000/60000 [==============================] - 2s 25us/step - loss: 0.0131 - acc: 0.9961 - val_loss: 0.0699 - val_acc: 0.9815\n",
            "Epoch 10/10\n",
            "60000/60000 [==============================] - 2s 25us/step - loss: 0.0102 - acc: 0.9973 - val_loss: 0.0716 - val_acc: 0.9818\n"
          ],
          "name": "stdout"
        }
      ]
    },
    {
      "cell_type": "markdown",
      "metadata": {
        "id": "vTtzYNe-a-Ro",
        "colab_type": "text"
      },
      "source": [
        "## Display the training/test loss/accuracy"
      ]
    },
    {
      "cell_type": "code",
      "metadata": {
        "id": "kZ70napGZ-cK",
        "colab_type": "code",
        "colab": {}
      },
      "source": [
        "history_dict = history.history\n",
        "loss_values = history_dict['loss']\n",
        "test_loss_values = history_dict['val_loss']\n",
        "epochs_range = range(1, epochs + 1)"
      ],
      "execution_count": 0,
      "outputs": []
    },
    {
      "cell_type": "code",
      "metadata": {
        "id": "9aM-5qqCfnck",
        "colab_type": "code",
        "outputId": "e20c96e7-0f77-4976-c1d4-487a88a8feb7",
        "colab": {
          "base_uri": "https://localhost:8080/",
          "height": 295
        }
      },
      "source": [
        "plt.plot(epochs_range, loss_values, 'bo', label='Training loss')\n",
        "plt.plot(epochs_range, test_loss_values, 'ro', label='Test loss')\n",
        "plt.title('Training and test loss')\n",
        "plt.xlabel('Epochs')\n",
        "plt.ylabel('Loss')\n",
        "plt.legend()\n",
        "plt.show()"
      ],
      "execution_count": 0,
      "outputs": [
        {
          "output_type": "display_data",
          "data": {
            "image/png": "[encoded data removed]",
            "text/plain": [
              "<Figure size 432x288 with 1 Axes>"
            ]
          },
          "metadata": {
            "tags": []
          }
        }
      ]
    },
    {
      "cell_type": "code",
      "metadata": {
        "id": "-IB2uFCzez-e",
        "colab_type": "code",
        "colab": {}
      },
      "source": [
        "acc_values = history_dict['acc']\n",
        "test_acc_values = history_dict['val_acc']"
      ],
      "execution_count": 0,
      "outputs": []
    },
    {
      "cell_type": "code",
      "metadata": {
        "id": "AdyXVyeLf-SV",
        "colab_type": "code",
        "outputId": "ab18b054-a216-4a6c-bd8d-93c22601fd3a",
        "colab": {
          "base_uri": "https://localhost:8080/",
          "height": 295
        }
      },
      "source": [
        "plt.plot(epochs_range, acc_values, 'bo', label='Training accuracy')\n",
        "plt.plot(epochs_range, test_acc_values, 'ro', label='Test accuracy')\n",
        "plt.title('Training and test accuracy')\n",
        "plt.xlabel('Epochs')\n",
        "plt.ylabel('Accuracy')\n",
        "plt.legend()\n",
        "plt.show()"
      ],
      "execution_count": 0,
      "outputs": [
        {
          "output_type": "display_data",
          "data": {
            "image/png": "[encoded data removed]",
            "text/plain": [
              "<Figure size 432x288 with 1 Axes>"
            ]
          },
          "metadata": {
            "tags": []
          }
        }
      ]
    },
    {
      "cell_type": "markdown",
      "metadata": {
        "id": "h2stwglLgXE9",
        "colab_type": "text"
      },
      "source": [
        "## Overfitting\n",
        "\n",
        "As you can see, the training loss decreases with every epoch, and the training accuracy increases with every epoch. That's what you would expect when gradient descent optimization - the quantity you're trying to minimize should be less with every iteration.\n",
        "\n",
        "But this isn't the case for the training loss and accuracy: they seem to peak at the sixth epoch.\n",
        "\n",
        "This is an example of overfitting: a model that performs better on the training data isn't necessarily a model that performs better on data it has never seen before. You are overoptimizing on the training data, and you end up learning representations that are specific to the training data and don't generalize to data outside the training set."
      ]
    },
    {
      "cell_type": "markdown",
      "metadata": {
        "id": "iPbL28KUjWka",
        "colab_type": "text"
      },
      "source": [
        "## Showing some misclassified digits"
      ]
    },
    {
      "cell_type": "code",
      "metadata": {
        "id": "BkpI5di5kzEy",
        "colab_type": "code",
        "colab": {}
      },
      "source": [
        "predictions = network.predict(test_images)"
      ],
      "execution_count": 0,
      "outputs": []
    },
    {
      "cell_type": "code",
      "metadata": {
        "id": "MyoQ-72Kk7Ah",
        "colab_type": "code",
        "outputId": "5e931a82-8d7a-45d2-f392-c3b993cd8e01",
        "colab": {
          "base_uri": "https://localhost:8080/",
          "height": 69
        }
      },
      "source": [
        "predictions[0]"
      ],
      "execution_count": 0,
      "outputs": [
        {
          "output_type": "execute_result",
          "data": {
            "text/plain": [
              "array([1.2593197e-10, 2.5504799e-13, 1.6982765e-09, 9.8390474e-06,\n",
              "       4.8432587e-16, 8.0136751e-11, 4.0219836e-21, 9.9998975e-01,\n",
              "       8.7284117e-11, 3.3310721e-07], dtype=float32)"
            ]
          },
          "metadata": {
            "tags": []
          },
          "execution_count": 20
        }
      ]
    },
    {
      "cell_type": "code",
      "metadata": {
        "id": "kPhKmlKNl5tX",
        "colab_type": "code",
        "outputId": "2a872a97-aee2-4f74-db14-c4587a55773b",
        "colab": {
          "base_uri": "https://localhost:8080/",
          "height": 35
        }
      },
      "source": [
        "np.argmax(predictions[0])"
      ],
      "execution_count": 0,
      "outputs": [
        {
          "output_type": "execute_result",
          "data": {
            "text/plain": [
              "7"
            ]
          },
          "metadata": {
            "tags": []
          },
          "execution_count": 21
        }
      ]
    },
    {
      "cell_type": "code",
      "metadata": {
        "id": "OiTXq8M0mD-4",
        "colab_type": "code",
        "outputId": "b21cf9e9-b5c6-46cb-caa2-69b620466c8e",
        "colab": {
          "base_uri": "https://localhost:8080/",
          "height": 35
        }
      },
      "source": [
        "test_labels_original[0]"
      ],
      "execution_count": 0,
      "outputs": [
        {
          "output_type": "execute_result",
          "data": {
            "text/plain": [
              "7"
            ]
          },
          "metadata": {
            "tags": []
          },
          "execution_count": 22
        }
      ]
    },
    {
      "cell_type": "code",
      "metadata": {
        "id": "bD6JO8WbmMmo",
        "colab_type": "code",
        "colab": {}
      },
      "source": [
        "predicted_labels = np.argmax(predictions, axis=1) \n",
        "predicted_labels = predicted_labels.astype('uint8')"
      ],
      "execution_count": 0,
      "outputs": []
    },
    {
      "cell_type": "code",
      "metadata": {
        "id": "5sPpiYofpJLl",
        "colab_type": "code",
        "outputId": "ed464782-39ec-4fe5-d792-22db26099d77",
        "colab": {
          "base_uri": "https://localhost:8080/",
          "height": 35
        }
      },
      "source": [
        "predicted_labels"
      ],
      "execution_count": 0,
      "outputs": [
        {
          "output_type": "execute_result",
          "data": {
            "text/plain": [
              "array([7, 2, 1, ..., 4, 5, 6], dtype=uint8)"
            ]
          },
          "metadata": {
            "tags": []
          },
          "execution_count": 24
        }
      ]
    },
    {
      "cell_type": "code",
      "metadata": {
        "id": "82zScJn7pMuW",
        "colab_type": "code",
        "colab": {}
      },
      "source": [
        "wrong_indices = [i for i in range(10000) if predicted_labels[i] != test_labels_original[i]]"
      ],
      "execution_count": 0,
      "outputs": []
    },
    {
      "cell_type": "code",
      "metadata": {
        "id": "4rfbv49rpsSN",
        "colab_type": "code",
        "outputId": "7b4cec98-b877-45e5-cde8-7c6e179b0472",
        "colab": {
          "base_uri": "https://localhost:8080/",
          "height": 35
        }
      },
      "source": [
        "# The quantity below is equal to the test accuracy reported by the network fit method.\n",
        "1.0 - len(wrong_indices) / 10000.0"
      ],
      "execution_count": 0,
      "outputs": [
        {
          "output_type": "execute_result",
          "data": {
            "text/plain": [
              "0.9818"
            ]
          },
          "metadata": {
            "tags": []
          },
          "execution_count": 26
        }
      ]
    },
    {
      "cell_type": "code",
      "metadata": {
        "id": "6Pr6E4LNp219",
        "colab_type": "code",
        "colab": {}
      },
      "source": [
        "# This show the ith misclassified digit. \n",
        "i = 4\n",
        "wrong_index = wrong_indices[i]  "
      ],
      "execution_count": 0,
      "outputs": []
    },
    {
      "cell_type": "code",
      "metadata": {
        "id": "-SK4C_52q5oc",
        "colab_type": "code",
        "outputId": "df896d69-b739-4d28-ea1a-eb913c566631",
        "colab": {
          "base_uri": "https://localhost:8080/",
          "height": 35
        }
      },
      "source": [
        "predicted_labels[wrong_index]"
      ],
      "execution_count": 0,
      "outputs": [
        {
          "output_type": "execute_result",
          "data": {
            "text/plain": [
              "7"
            ]
          },
          "metadata": {
            "tags": []
          },
          "execution_count": 28
        }
      ]
    },
    {
      "cell_type": "code",
      "metadata": {
        "id": "mJiXy-LBq-Dz",
        "colab_type": "code",
        "outputId": "5459b2d9-4caf-437c-eb67-c86351ac82fc",
        "colab": {
          "base_uri": "https://localhost:8080/",
          "height": 35
        }
      },
      "source": [
        "test_labels_original[wrong_index]"
      ],
      "execution_count": 0,
      "outputs": [
        {
          "output_type": "execute_result",
          "data": {
            "text/plain": [
              "2"
            ]
          },
          "metadata": {
            "tags": []
          },
          "execution_count": 29
        }
      ]
    },
    {
      "cell_type": "code",
      "metadata": {
        "id": "1VE3-4X6rFDc",
        "colab_type": "code",
        "outputId": "55f7fc89-73bf-48b1-e6ad-d7fa7e46bab3",
        "colab": {
          "base_uri": "https://localhost:8080/",
          "height": 269
        }
      },
      "source": [
        "plt.imshow(test_images_original[wrong_index])\n",
        "plt.show()"
      ],
      "execution_count": 0,
      "outputs": [
        {
          "output_type": "display_data",
          "data": {
            "image/png": "[encoded data removed]",
            "text/plain": [
              "<Figure size 432x288 with 1 Axes>"
            ]
          },
          "metadata": {
            "tags": []
          }
        }
      ]
    },
    {
      "cell_type": "code",
      "metadata": {
        "id": "a5Lo7sDbrmKM",
        "colab_type": "code",
        "colab": {}
      },
      "source": [
        ""
      ],
      "execution_count": 0,
      "outputs": []
    }
  ]
}